{
 "cells": [
  {
   "cell_type": "markdown",
   "metadata": {
    "deletable": true,
    "editable": true
   },
   "source": [
    "# Transform\n",
    "\n",
    "Ingest the raw data from the Bureau of Labor Statistics and transform it into simplified files prepared for analysis."
   ]
  },
  {
   "cell_type": "code",
   "execution_count": 1,
   "metadata": {
    "collapsed": true,
    "deletable": true,
    "editable": true
   },
   "outputs": [],
   "source": [
    "import os\n",
    "import cpi\n",
    "import pandas as pd"
   ]
  },
  {
   "cell_type": "code",
   "execution_count": 2,
   "metadata": {
    "collapsed": true,
    "deletable": true,
    "editable": true
   },
   "outputs": [],
   "source": [
    "import warnings\n",
    "warnings.filterwarnings(\"ignore\")"
   ]
  },
  {
   "cell_type": "code",
   "execution_count": 3,
   "metadata": {
    "collapsed": true,
    "deletable": true,
    "editable": true
   },
   "outputs": [],
   "source": [
    "pd.set_option(\"display.max_columns\", None)"
   ]
  },
  {
   "cell_type": "markdown",
   "metadata": {
    "deletable": true,
    "editable": true
   },
   "source": [
    "Set all the years of data to transform"
   ]
  },
  {
   "cell_type": "code",
   "execution_count": 4,
   "metadata": {
    "collapsed": true,
    "deletable": true,
    "editable": true
   },
   "outputs": [],
   "source": [
    "years = range(1990, 2016)"
   ]
  },
  {
   "cell_type": "markdown",
   "metadata": {
    "deletable": true,
    "editable": true
   },
   "source": [
    "The shortlist of industries to extract from the data"
   ]
  },
  {
   "cell_type": "code",
   "execution_count": 5,
   "metadata": {
    "collapsed": false,
    "deletable": true,
    "editable": true
   },
   "outputs": [],
   "source": [
    "whitelist = pd.DataFrame([\n",
    "    ('10', 'Total, all industries', 'total'),\n",
    "    ('111', 'Crop production', 'crops'),\n",
    "    ('1151', 'Support activities for crop production', 'crops'),\n",
    "], columns=['industry_code', 'industry_name', 'industry_group'])"
   ]
  },
  {
   "cell_type": "markdown",
   "metadata": {
    "deletable": true,
    "editable": true
   },
   "source": [
    "Where to find the CSV files"
   ]
  },
  {
   "cell_type": "code",
   "execution_count": 6,
   "metadata": {
    "collapsed": true,
    "deletable": true,
    "editable": true
   },
   "outputs": [],
   "source": [
    "path_template = './data/{}.annual.singlefile.csv'"
   ]
  },
  {
   "cell_type": "markdown",
   "metadata": {
    "deletable": true,
    "editable": true
   },
   "source": [
    "Area titles crosswalk to decode the raw data files"
   ]
  },
  {
   "cell_type": "code",
   "execution_count": 30,
   "metadata": {
    "collapsed": true,
    "deletable": true,
    "editable": true
   },
   "outputs": [],
   "source": [
    "area_titles = pd.read_csv(\"./data/area_titles.csv\")"
   ]
  },
  {
   "cell_type": "markdown",
   "metadata": {
    "deletable": true,
    "editable": true
   },
   "source": [
    "Loop through all years and transform the state and county level data for each"
   ]
  },
  {
   "cell_type": "code",
   "execution_count": 8,
   "metadata": {
    "collapsed": false,
    "deletable": true,
    "editable": true
   },
   "outputs": [
    {
     "name": "stdout",
     "output_type": "stream",
     "text": [
      "Transforming 1990\n",
      "Transforming 1991\n",
      "Transforming 1992\n",
      "Transforming 1993\n",
      "Transforming 1994\n",
      "Transforming 1995\n",
      "Transforming 1996\n",
      "Transforming 1997\n",
      "Transforming 1998\n",
      "Transforming 1999\n",
      "Transforming 2000\n",
      "Transforming 2001\n",
      "Transforming 2002\n",
      "Transforming 2003\n",
      "Transforming 2004\n",
      "Transforming 2005\n",
      "Transforming 2006\n",
      "Transforming 2007\n",
      "Transforming 2008\n",
      "Transforming 2009\n",
      "Transforming 2010\n",
      "Transforming 2011\n",
      "Transforming 2012\n",
      "Transforming 2013\n",
      "Transforming 2014\n",
      "Transforming 2015\n"
     ]
    }
   ],
   "source": [
    "for year in years:\n",
    "    print \"Transforming {}\".format(year)\n",
    "    \n",
    "    # Read in the csv\n",
    "    df = pd.read_csv(path_template.format(year), dtype={\"area_fips\": str})\n",
    "    \n",
    "    # Decode the area titles\n",
    "    df = df.merge(area_titles, on=\"area_fips\", how=\"inner\")\n",
    "\n",
    "    # Filter it down to desired industries using whitelist\n",
    "    filtered_df = df.merge(whitelist, on='industry_code', how=\"inner\")\n",
    "    \n",
    "    # Filter it down to the statewide aggregation level for each industry\n",
    "    state_df = filtered_df[\n",
    "        # Statewide totals for all industries\n",
    "        ((filtered_df.agglvl_code == 50) & (filtered_df.industry_group == 'total')) |\n",
    "        # Statewide totals for our selected industries\n",
    "        (\n",
    "            (filtered_df.agglvl_code.isin([55, 56])) &\n",
    "            (filtered_df.own_code == 5) &\n",
    "            (filtered_df.industry_group == 'crops')\n",
    "        )\n",
    "    ]\n",
    "    \n",
    "    # Filter it down to the county aggregation level for each industry\n",
    "    county_df = filtered_df[\n",
    "        # County totals for all industries\n",
    "        ((filtered_df.agglvl_code == 70) & (filtered_df.industry_group == 'total')) |\n",
    "        # County totals for our selected industries\n",
    "        (\n",
    "            (filtered_df.agglvl_code.isin([75, 76])) &\n",
    "            (filtered_df.own_code == 5) &\n",
    "            (filtered_df.industry_group == 'crops')\n",
    "        )\n",
    "    ]\n",
    "\n",
    "    # Trim to only the columns we want\n",
    "    trimmed_columns = [\n",
    "        'area_fips',\n",
    "        'area_title',\n",
    "        'industry_code',\n",
    "        'industry_name',\n",
    "        'industry_group',\n",
    "        'agglvl_code',\n",
    "        'year',\n",
    "        'own_code',\n",
    "        'avg_annual_pay',\n",
    "        'annual_avg_emplvl',\n",
    "        'total_annual_wages',\n",
    "    ]\n",
    "    trimmed_state_df = state_df[trimmed_columns]\n",
    "    trimmed_county_df = county_df[trimmed_columns]\n",
    "    \n",
    "    # Adjust wages for inflation\n",
    "    trimmed_state_df['total_annual_wages_2015'] = trimmed_state_df.apply(\n",
    "        lambda x: cpi.to_2015_dollars(x.total_annual_wages, x.year),\n",
    "        axis=1\n",
    "    )\n",
    "    trimmed_county_df['total_annual_wages_2015'] = trimmed_county_df.apply(\n",
    "        lambda x: cpi.to_2015_dollars(x.total_annual_wages, x.year),\n",
    "        axis=1\n",
    "    )\n",
    "    \n",
    "    # Group totals by industry group\n",
    "    groupby = [\n",
    "        'year',\n",
    "        'area_fips',\n",
    "        'area_title',\n",
    "        'industry_group'\n",
    "    ]\n",
    "    aggregation = {\n",
    "        'annual_avg_emplvl': 'sum',\n",
    "        'total_annual_wages_2015': 'sum'\n",
    "    }\n",
    "    grouped_state_df = trimmed_state_df.groupby(groupby).agg(aggregation).reset_index()\n",
    "    grouped_county_df = trimmed_county_df.groupby(groupby).agg(aggregation).reset_index()\n",
    "    \n",
    "    # Recalculate average pay for the new group\n",
    "    grouped_state_df['avg_annual_pay_2015'] = (\n",
    "        grouped_state_df.total_annual_wages_2015 / grouped_state_df.annual_avg_emplvl\n",
    "    )\n",
    "    grouped_county_df['avg_annual_pay_2015'] = (\n",
    "        grouped_county_df.total_annual_wages_2015 / grouped_county_df.annual_avg_emplvl\n",
    "    )\n",
    "    \n",
    "    # Write out each annual file separately\n",
    "    grouped_state_df.to_csv(\"./data/transformed_state_{}.csv\".format(year), index=False)\n",
    "    grouped_county_df.to_csv(\"./data/transformed_county_{}.csv\".format(year), index=False)"
   ]
  },
  {
   "cell_type": "markdown",
   "metadata": {
    "deletable": true,
    "editable": true
   },
   "source": [
    "Combine all the annual files"
   ]
  },
  {
   "cell_type": "code",
   "execution_count": 9,
   "metadata": {
    "collapsed": false,
    "deletable": true,
    "editable": true
   },
   "outputs": [],
   "source": [
    "combined_state_df = pd.concat(\n",
    "    [pd.read_csv(\"./data/transformed_state_{}.csv\".format(year), dtype={\"area_fips\": str}) for year in years],\n",
    "    ignore_index=True\n",
    ")"
   ]
  },
  {
   "cell_type": "code",
   "execution_count": 10,
   "metadata": {
    "collapsed": false,
    "deletable": true,
    "editable": true
   },
   "outputs": [],
   "source": [
    "combined_county_df = pd.concat(\n",
    "    [pd.read_csv(\"./data/transformed_county_{}.csv\".format(year), dtype={\"area_fips\": str}) for year in years],\n",
    "    ignore_index=True\n",
    ")"
   ]
  },
  {
   "cell_type": "markdown",
   "metadata": {
    "deletable": true,
    "editable": true
   },
   "source": [
    "Write them out"
   ]
  },
  {
   "cell_type": "code",
   "execution_count": 11,
   "metadata": {
    "collapsed": false,
    "deletable": true,
    "editable": true
   },
   "outputs": [],
   "source": [
    "combined_state_df.to_csv(\"./data/transformed_state.csv\", index=False)"
   ]
  },
  {
   "cell_type": "code",
   "execution_count": 12,
   "metadata": {
    "collapsed": true,
    "deletable": true,
    "editable": true
   },
   "outputs": [],
   "source": [
    "combined_county_df.to_csv(\"./data/transformed_county.csv\", index=False)"
   ]
  }
 ],
 "metadata": {
  "kernelspec": {
   "display_name": "Python 2",
   "language": "python",
   "name": "python2"
  },
  "language_info": {
   "codemirror_mode": {
    "name": "ipython",
    "version": 2
   },
   "file_extension": ".py",
   "mimetype": "text/x-python",
   "name": "python",
   "nbconvert_exporter": "python",
   "pygments_lexer": "ipython2",
   "version": "2.7.12+"
  }
 },
 "nbformat": 4,
 "nbformat_minor": 2
}
